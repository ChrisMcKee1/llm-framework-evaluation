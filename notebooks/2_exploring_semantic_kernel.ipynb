{
 "cells": [
  {
   "cell_type": "markdown",
   "metadata": {},
   "source": "# Part 2: Semantic Kernel Fundamentals (2025 Edition)\n\nThis notebook demonstrates Semantic Kernel's core capabilities with 2025 production patterns. We'll explore the stable plugin architecture, modern kernel orchestration, Agent Framework 1.0, and AutoGen integration that showcase SK's enterprise-ready \"Orchestrate Everything\" philosophy.",
   "outputs": []
  },
  {
   "cell_type": "markdown",
   "metadata": {},
   "source": [
    "## Environment Setup\n",
    "\n",
    "First, let's load our environment variables and configure our Azure OpenAI connection for Semantic Kernel."
   ]
  },
  {
   "cell_type": "code",
   "execution_count": null,
   "metadata": {},
   "outputs": [],
   "source": [
    "# Environment and configuration setup\n",
    "import os\n",
    "import warnings\n",
    "import asyncio\n",
    "from pathlib import Path\n",
    "from dotenv import load_dotenv, find_dotenv\n",
    "\n",
    "class SemanticKernelConfig:\n",
    "    \"\"\"Configuration management for Azure OpenAI in Semantic Kernel\"\"\"\n",
    "    \n",
    "    def __init__(self):\n",
    "        # Load environment variables\n",
    "        env_path = find_dotenv()\n",
    "        if env_path:\n",
    "            load_dotenv(env_path)\n",
    "            print(f\"✅ Loaded environment from: {env_path}\")\n",
    "        else:\n",
    "            warnings.warn(\"No .env file found. Using system environment variables only.\")\n",
    "        \n",
    "        self._load_azure_config()\n",
    "        self._validate_config()\n",
    "    \n",
    "    def _load_azure_config(self):\n",
    "        \"\"\"Load Azure OpenAI configuration from environment variables\"\"\"\n",
    "        self.azure_api_key = os.getenv('AZURE_OPENAI_API_KEY')\n",
    "        self.azure_endpoint = os.getenv('AZURE_OPENAI_ENDPOINT')\n",
    "        self.azure_deployment = os.getenv('AZURE_OPENAI_CHAT_DEPLOYMENT_NAME', 'gpt-4o-mini')\n",
    "        self.azure_api_version = os.getenv('AZURE_OPENAI_API_VERSION', '2024-10-21')\n",
    "        self.service_id = \"azure_chat\"\n",
    "    \n",
    "    def _validate_config(self):\n",
    "        \"\"\"Validate critical configuration\"\"\"\n",
    "        errors = []\n",
    "        \n",
    "        if not self.azure_api_key:\n",
    "            errors.append(\"AZURE_OPENAI_API_KEY is required\")\n",
    "        \n",
    "        if not self.azure_endpoint:\n",
    "            errors.append(\"AZURE_OPENAI_ENDPOINT is required\")\n",
    "        \n",
    "        if errors:\n",
    "            raise ValueError(f\"Configuration errors: {', '.join(errors)}\")\n",
    "        \n",
    "        print(\"✅ All Azure OpenAI configuration validated successfully\")\n",
    "    \n",
    "    def display_config(self):\n",
    "        \"\"\"Display current configuration (hiding secrets)\"\"\"\n",
    "        print(\"Azure OpenAI Configuration for Semantic Kernel:\")\n",
    "        print(f\"  Endpoint: {self.azure_endpoint}\")\n",
    "        print(f\"  Deployment: {self.azure_deployment}\")\n",
    "        print(f\"  API Version: {self.azure_api_version}\")\n",
    "        print(f\"  Service ID: {self.service_id}\")\n",
    "        print(f\"  API Key: {'*' * 20 + self.azure_api_key[-4:] if self.azure_api_key else 'Not set'}\")\n",
    "\n",
    "# Initialize configuration\n",
    "try:\n",
    "    sk_config = SemanticKernelConfig()\n",
    "    sk_config.display_config()\n",
    "except Exception as e:\n",
    "    print(f\"❌ Failed to load configuration: {e}\")\n",
    "    print(\"\\nPlease ensure you have a .env file with the following variables:\")\n",
    "    print(\"- AZURE_OPENAI_API_KEY\")\n",
    "    print(\"- AZURE_OPENAI_ENDPOINT\")\n",
    "    print(\"- AZURE_OPENAI_CHAT_DEPLOYMENT_NAME (optional, defaults to gpt-4o-mini)\")\n",
    "    raise"
   ]
  },
  {
   "cell_type": "markdown",
   "metadata": {},
   "source": "### 2.1 Basic Chat and Kernel Configuration\n\nSemantic Kernel uses a dependency injection pattern with services registered in the kernel. This provides strong typing and better enterprise patterns.",
   "outputs": []
  },
  {
   "cell_type": "code",
   "metadata": {},
   "outputs": [],
   "source": "import semantic_kernel as sk\nfrom semantic_kernel.connectors.ai.open_ai import AzureChatCompletion, AzureChatPromptExecutionSettings\nfrom semantic_kernel.contents import ChatHistory\n\n# Initialize the kernel - central orchestrator for all SK operations\nkernel = sk.Kernel()\n\n# Configure Azure OpenAI chat completion service with dependency injection\nazure_chat_service = AzureChatCompletion(\n    service_id=sk_config.service_id,\n    deployment_name=sk_config.azure_deployment,\n    endpoint=sk_config.azure_endpoint,\n    api_key=sk_config.azure_api_key,\n    api_version=sk_config.azure_api_version\n)\n\n# Register the service with the kernel (dependency injection pattern)\nkernel.add_service(azure_chat_service)\n\nprint(\"🔧 Kernel Configuration:\")\nprint(f\"  Services registered: {len(kernel.services)}\")\nprint(f\"  Chat service ID: {sk_config.service_id}\")\n\nasync def demonstrate_basic_chat():\n    \"\"\"Demonstrates basic chat functionality with proper settings\"\"\"\n    \n    # Create chat history for conversation context\n    history = ChatHistory()\n    history.add_system_message(\"You are a helpful assistant who provides concise, step-by-step answers.\")\n    history.add_user_message(\"What is the capital of France?\")\n    \n    # Create execution settings - required for all SK operations\n    execution_settings = AzureChatPromptExecutionSettings(\n        service_id=sk_config.service_id,\n        max_tokens=150,\n        temperature=0.7\n    )\n    \n    print(\"💬 Basic Chat Example:\")\n    print(\"User > What is the capital of France?\")\n    \n    # Execute the chat completion\n    response = await azure_chat_service.get_chat_message_content(\n        chat_history=history, \n        settings=execution_settings\n    )\n    \n    print(f\"Assistant > {response.content}\")\n    \n    # Demonstrate conversation continuation\n    history.add_assistant_message(response.content)\n    history.add_user_message(\"What language do they speak there?\")\n    \n    print(\"\\\\nUser > What language do they speak there?\")\n    \n    response2 = await azure_chat_service.get_chat_message_content(\n        chat_history=history,\n        settings=execution_settings\n    )\n    \n    print(f\"Assistant > {response2.content}\")\n\n# Execute the demonstration\nawait demonstrate_basic_chat()"
  },
  {
   "cell_type": "markdown",
   "metadata": {},
   "source": "### 2.2 Plugin Architecture and Sequential Orchestration\n\nSemantic Kernel's plugin system provides a structured approach to building reusable components. Unlike LangChain's composition, SK uses explicit orchestration.",
   "outputs": []
  },
  {
   "cell_type": "code",
   "metadata": {},
   "outputs": [],
   "source": "# Create semantic functions from prompts (SK's equivalent to LangChain chains)\n# These are registered as plugins in the kernel\n\n# Plugin 1: Company Naming\ncompany_naming_prompt = \"\"\"\nWhat is a good name for a company that makes {{$input}}? \nProvide just the company name, nothing else.\n\"\"\"\n\nnaming_function = kernel.create_function_from_prompt(\n    function_name=\"generate_name\", \n    plugin_name=\"MarketingPlugin\", \n    prompt=company_naming_prompt,\n    description=\"Generates creative company names for products\"\n)\n\n# Plugin 2: Catchphrase Generation  \ncatchphrase_prompt = \"\"\"\nWrite a creative, memorable catchphrase for the following company: {{$input}}\nMake it catchy and professional. Provide just the catchphrase, nothing else.\n\"\"\"\n\ncatchphrase_function = kernel.create_function_from_prompt(\n    function_name=\"generate_catchphrase\", \n    plugin_name=\"MarketingPlugin\", \n    prompt=catchphrase_prompt,\n    description=\"Creates marketing catchphrases for companies\"\n)\n\nprint(\"🔌 Plugins Registered:\")\nprint(f\"  Total plugins: {len(kernel.plugins)}\")\nfor plugin_name, plugin in kernel.plugins.items():\n    print(f\"  - {plugin_name}: {len(plugin.functions)} functions\")\n    for func_name in plugin.functions:\n        print(f\"    • {func_name}\")\n\nasync def demonstrate_orchestration():\n    \"\"\"Demonstrates explicit orchestration - SK's approach to sequential processing\"\"\"\n    \n    product = \"colorful, eco-friendly socks\"\n    print(f\"\\\\n🎯 Input product: {product}\")\n    print(\"\\\\n🔗 Running Sequential Orchestration...\")\n    \n    # Step 1: Generate company name (explicit orchestration)\n    print(\"\\\\n📝 Step 1: Generating company name...\")\n    try:\n        name_result = await kernel.invoke(naming_function, sk.KernelArguments(input=product))\n        company_name = str(name_result).strip()\n        print(f\"   Result: {company_name}\")\n    except Exception as e:\n        print(f\"   Error: {e}\")\n        return\n    \n    # Step 2: Generate catchphrase using the generated name\n    print(\"\\\\n🎨 Step 2: Generating catchphrase...\")\n    try:\n        catchphrase_result = await kernel.invoke(catchphrase_function, sk.KernelArguments(input=company_name))\n        catchphrase = str(catchphrase_result).strip()\n        print(f\"   Result: {catchphrase}\")\n    except Exception as e:\n        print(f\"   Error: {e}\")\n        return\n    \n    # Display final results\n    print(\"\\\\n\" + \"=\"*50)\n    print(\"✅ ORCHESTRATION COMPLETE\")\n    print(\"=\"*50)\n    print(f\"Product: {product}\")\n    print(f\"Company Name: {company_name}\")\n    print(f\"Catchphrase: {catchphrase}\")\n    print(\"=\"*50)\n    \n    return {\n        \"product\": product,\n        \"company_name\": company_name, \n        \"catchphrase\": catchphrase\n    }\n\n# Execute the orchestration\nresult = await demonstrate_orchestration()\n\n# Demonstrate plugin reusability\nprint(\"\\\\n🔄 Demonstrating Plugin Reusability...\")\ntest_products = [\"smart home devices\", \"artisanal coffee beans\"]\n\nfor product in test_products:\n    print(f\"\\\\n→ Testing with: {product}\")\n    name_result = await kernel.invoke(naming_function, sk.KernelArguments(input=product))\n    print(f\"  Generated name: {name_result}\")"
  },
  {
   "cell_type": "markdown",
   "id": "ynixtlvl6i",
   "metadata": {},
   "source": "### 2.3 Native Function Plugins\n\nSK's strength lies in its ability to combine AI with traditional code through native function plugins. This demonstrates the hybrid AI + code approach."
  },
  {
   "cell_type": "code",
   "execution_count": null,
   "id": "native-functions-demo",
   "metadata": {},
   "outputs": [],
   "source": "import random\nfrom semantic_kernel.functions import kernel_function\nfrom datetime import datetime, timedelta\nimport json\n\n# Native function plugins combine traditional code with AI capabilities\n# These are Python classes decorated with @kernel_function\n\nclass MathPlugin:\n    \"\"\"Plugin that provides mathematical operations\"\"\"\n    \n    @kernel_function(\n        description=\"Calculate a random number between min and max\",\n        name=\"GenerateRandomNumber\"\n    )\n    def generate_random_number(\n        self, \n        min_val: int = 1, \n        max_val: int = 100\n    ) -> str:\n        \"\"\"Generate a random number between specified bounds\"\"\"\n        try:\n            result = random.randint(min_val, max_val)\n            return str(result)\n        except ValueError as e:\n            return f\"Error: {e}\"\n    \n    @kernel_function(\n        description=\"Calculate percentage\",\n        name=\"CalculatePercentage\"\n    )\n    def calculate_percentage(self, part: float, whole: float) -> str:\n        \"\"\"Calculate percentage of part from whole\"\"\"\n        try:\n            if whole == 0:\n                return \"Error: Cannot divide by zero\"\n            percentage = (part / whole) * 100\n            return f\"{percentage:.2f}%\"\n        except Exception as e:\n            return f\"Error: {e}\"\n\nclass DateTimePlugin:\n    \"\"\"Plugin that provides date and time operations\"\"\"\n    \n    @kernel_function(\n        description=\"Get current date and time\",\n        name=\"GetCurrentDateTime\"\n    )\n    def get_current_datetime(self) -> str:\n        \"\"\"Returns current date and time\"\"\"\n        return datetime.now().strftime(\"%Y-%m-%d %H:%M:%S\")\n    \n    @kernel_function(\n        description=\"Add days to current date\",\n        name=\"AddDaysToDate\"\n    )\n    def add_days_to_date(self, days: int) -> str:\n        \"\"\"Add specified number of days to current date\"\"\"\n        try:\n            future_date = datetime.now() + timedelta(days=days)\n            return future_date.strftime(\"%Y-%m-%d\")\n        except Exception as e:\n            return f\"Error: {e}\"\n\nclass DataProcessingPlugin:\n    \"\"\"Plugin for data processing operations\"\"\"\n    \n    @kernel_function(\n        description=\"Process JSON data and extract specific field\",\n        name=\"ExtractJsonField\"\n    )\n    def extract_json_field(self, json_data: str, field_name: str) -> str:\n        \"\"\"Extract a specific field from JSON data\"\"\"\n        try:\n            data = json.loads(json_data)\n            if field_name in data:\n                return str(data[field_name])\n            else:\n                return f\"Field '{field_name}' not found in JSON data\"\n        except json.JSONDecodeError:\n            return \"Error: Invalid JSON format\"\n        except Exception as e:\n            return f\"Error: {e}\"\n    \n    @kernel_function(\n        description=\"Count words in text\",\n        name=\"CountWords\"\n    )\n    def count_words(self, text: str) -> str:\n        \"\"\"Count the number of words in the provided text\"\"\"\n        try:\n            word_count = len(text.split())\n            return str(word_count)\n        except Exception as e:\n            return f\"Error: {e}\"\n\n# Register all native function plugins with the kernel\nmath_plugin = kernel.add_plugin(MathPlugin(), \"MathPlugin\")\ndatetime_plugin = kernel.add_plugin(DateTimePlugin(), \"DateTimePlugin\")\ndata_plugin = kernel.add_plugin(DataProcessingPlugin(), \"DataPlugin\")\n\nprint(\"🔧 Native Function Plugins Registered:\")\nprint(f\"  Total plugins: {len(kernel.plugins)}\")\n\nfor plugin_name, plugin in kernel.plugins.items():\n    print(f\"\\n  📦 {plugin_name}:\")\n    for func_name, func in plugin.functions.items():\n        print(f\"    • {func_name}: {func.description}\")\n\n# Demonstrate native function usage\nasync def demonstrate_native_functions():\n    \"\"\"Demonstrate calling native functions directly\"\"\"\n    \n    print(\"\\n🧮 Testing Native Function Plugins:\")\n    print(\"=\" * 50)\n    \n    # Test MathPlugin\n    print(\"\\n📊 Math Plugin:\")\n    random_result = await kernel.invoke(\n        math_plugin[\"GenerateRandomNumber\"], \n        sk.KernelArguments(min_val=10, max_val=50)\n    )\n    print(f\"  Random number (10-50): {random_result}\")\n    \n    percentage_result = await kernel.invoke(\n        math_plugin[\"CalculatePercentage\"],\n        sk.KernelArguments(part=25, whole=100)\n    )\n    print(f\"  25 out of 100: {percentage_result}\")\n    \n    # Test DateTimePlugin\n    print(\"\\n📅 DateTime Plugin:\")\n    current_time = await kernel.invoke(\n        datetime_plugin[\"GetCurrentDateTime\"]\n    )\n    print(f\"  Current time: {current_time}\")\n    \n    future_date = await kernel.invoke(\n        datetime_plugin[\"AddDaysToDate\"],\n        sk.KernelArguments(days=7)\n    )\n    print(f\"  Date in 7 days: {future_date}\")\n    \n    # Test DataProcessingPlugin\n    print(\"\\n🔍 Data Processing Plugin:\")\n    sample_json = '{\"name\": \"John Doe\", \"age\": 30, \"city\": \"Seattle\"}'\n    \n    name_result = await kernel.invoke(\n        data_plugin[\"ExtractJsonField\"],\n        sk.KernelArguments(json_data=sample_json, field_name=\"name\")\n    )\n    print(f\"  Extracted name: {name_result}\")\n    \n    word_count = await kernel.invoke(\n        data_plugin[\"CountWords\"],\n        sk.KernelArguments(text=\"The quick brown fox jumps over the lazy dog\")\n    )\n    print(f\"  Word count: {word_count} words\")\n    \n    print(\"\\n\" + \"=\" * 50)\n    print(\"✅ Native Functions Demonstration Complete\")\n    print(\"💡 These functions can be called by AI or used in orchestration\")\n\n# Execute the native functions demonstration\nawait demonstrate_native_functions()"
  },
  {
   "cell_type": "markdown",
   "id": "6alcrpf8no5",
   "metadata": {},
   "source": "### 2.4 Automatic Function Calling (Basic Agent Behavior)\n\nSemantic Kernel's automatic function calling provides agent-like behavior through structured function invocation. This demonstrates single-agent capabilities before exploring the Agent Framework."
  },
  {
   "cell_type": "code",
   "execution_count": null,
   "id": "auto-function-calling-demo",
   "metadata": {},
   "outputs": [],
   "source": "# Automatic Function Calling - SK's Agent-like Behavior\n# The AI model automatically decides which functions to call based on user input\n\nfrom semantic_kernel.connectors.ai.function_choice_behavior import FunctionChoiceBehavior\nfrom semantic_kernel.contents import ChatHistory\n\n# Create a specialized AI service for automatic function calling\nai_service_auto = AzureChatCompletion(\n    service_id=\"auto_function_calling\",\n    deployment_name=sk_config.azure_deployment,\n    endpoint=sk_config.azure_endpoint,\n    api_key=sk_config.azure_api_key,\n    api_version=sk_config.azure_api_version\n)\n\n# Register with kernel\nkernel.add_service(ai_service_auto)\n\n# Configure execution settings for automatic function calling\nexecution_settings = AzureChatPromptExecutionSettings(\n    service_id=\"auto_function_calling\",\n    max_tokens=500,\n    temperature=0.1,  # Lower temperature for more deterministic function calling\n    # Enable automatic function calling - this is the key feature!\n    function_choice_behavior=FunctionChoiceBehavior.Auto()\n)\n\nprint(\"🤖 Automatic Function Calling Configuration:\")\nprint(f\"  Service ID: auto_function_calling\")\nprint(f\"  Available Plugins: {list(kernel.plugins.keys())}\")\nprint(f\"  Function Choice Behavior: Auto\")\nprint(f\"  Available Functions: {sum(len(plugin.functions) for plugin in kernel.plugins.values())}\")\n\nasync def demonstrate_automatic_function_calling():\n    \"\"\"Demonstrate how AI automatically chooses and calls functions\"\"\"\n    \n    print(\"\\n🎯 Automatic Function Calling Demonstrations:\")\n    print(\"=\" * 60)\n    \n    # Test scenarios where AI should automatically call functions\n    test_scenarios = [\n        {\n            \"query\": \"I need a random number between 1 and 10 for a dice roll\",\n            \"expected_plugin\": \"MathPlugin\",\n            \"description\": \"Should automatically call GenerateRandomNumber\"\n        },\n        {\n            \"query\": \"What's the current date and time?\",\n            \"expected_plugin\": \"DateTimePlugin\", \n            \"description\": \"Should automatically call GetCurrentDateTime\"\n        },\n        {\n            \"query\": \"What date will it be 14 days from now?\",\n            \"expected_plugin\": \"DateTimePlugin\",\n            \"description\": \"Should automatically call AddDaysToDate\"\n        },\n        {\n            \"query\": \"Calculate what percentage 45 is of 180\",\n            \"expected_plugin\": \"MathPlugin\",\n            \"description\": \"Should automatically call CalculatePercentage\"\n        },\n        {\n            \"query\": \"How many words are in this sentence: The quick brown fox\",\n            \"expected_plugin\": \"DataPlugin\",\n            \"description\": \"Should automatically call CountWords\"\n        }\n    ]\n    \n    for i, scenario in enumerate(test_scenarios, 1):\n        print(f\"\\n🧪 Test {i}: {scenario['description']}\")\n        print(f\"Query: \\\"{scenario['query']}\\\"\")\n        print(\"─\" * 40)\n        \n        # Create chat history for this interaction\n        chat_history = ChatHistory()\n        chat_history.add_system_message(\n            \"You are a helpful assistant that can perform various tasks using available functions. \"\n            \"Always use the appropriate function when possible and explain what you're doing.\"\n        )\n        chat_history.add_user_message(scenario['query'])\n        \n        try:\n            # This is where the magic happens - AI automatically calls functions!\n            response = await ai_service_auto.get_chat_message_content(\n                chat_history=chat_history,\n                settings=execution_settings,\n                kernel=kernel  # Provide kernel so AI can access functions\n            )\n            \n            print(f\"🤖 AI Response: {response.content}\")\n            \n            # Check if any function calls were made\n            if hasattr(response, 'function_call') or 'function' in str(response).lower():\n                print(\"✅ Function calling detected in response\")\n            else:\n                print(\"ℹ️ Response without explicit function calling\")\n                \n        except Exception as e:\n            print(f\"❌ Error: {e}\")\n        \n        print()\n    \n    print(\"=\" * 60)\n    print(\"✅ Automatic Function Calling Demonstration Complete\")\n    print(\"\\n💡 Key Insights:\")\n    print(\"   • AI automatically selects appropriate functions based on user intent\")\n    print(\"   • No manual function specification required\")\n    print(\"   • Functions are called with appropriate parameters\")\n    print(\"   • Results are integrated into natural language responses\")\n    print(\"   • This enables basic agent-like behavior\")\n\n# Execute automatic function calling demonstration\nawait demonstrate_automatic_function_calling()"
  },
  {
   "cell_type": "code",
   "execution_count": null,\n   "id": "multi-turn-conversation",\n   "metadata": {},\n   "outputs": [],\n   "source": "# Advanced: Multi-turn conversation with automatic function calling\n# This demonstrates more sophisticated agent behavior\n\nasync def demonstrate_multi_turn_agent_conversation():\n    \"\"\"Demonstrate agent behavior across multiple conversation turns\"\"\"\n    \n    print(\"\\n🔄 Multi-turn Agent Conversation:\")\n    print(\"=\" * 50)\n    \n    # Create persistent chat history for multi-turn conversation\n    persistent_chat = ChatHistory()\n    persistent_chat.add_system_message(\n        \"You are a helpful data analyst assistant. Use the available functions to help users \"\n        \"with calculations, data processing, and time-based queries. Remember our conversation context.\"\n    )\n    \n    # Simulate a multi-turn conversation\n    conversation_turns = [\n        \"I'm analyzing sales data. Can you give me a random sample ID between 1000 and 9999?\",\n        \"Thanks! Now calculate what percentage 1,250 sales is out of total 5,000 sales.\",\n        \"Perfect. What's today's date? I need it for my report.\",\n        \"Great! What date will it be 30 days from today for my next review?\"\n    ]\n    \n    for turn_num, user_message in enumerate(conversation_turns, 1):\n        print(f\"\\n💬 Turn {turn_num}:\")\n        print(f\"User: {user_message}\")\n        \n        # Add user message to persistent conversation\n        persistent_chat.add_user_message(user_message)\n        \n        try:\n            # AI responds with automatic function calling\n            response = await ai_service_auto.get_chat_message_content(\n                chat_history=persistent_chat,\n                settings=execution_settings,\n                kernel=kernel\n            )\n            \n            # Add AI response to maintain conversation context\n            persistent_chat.add_assistant_message(response.content)\n            \n            print(f\"Assistant: {response.content}\")\n            \n        except Exception as e:\n            print(f\"❌ Error in turn {turn_num}: {e}\")\n    \n    print(\"\\n\" + \"=\" * 50)\n    print(\"✅ Multi-turn Agent Conversation Complete\")\n    print(\"\\n🎯 Agent Capabilities Demonstrated:\")\n    print(\"   • Context retention across multiple turns\")\n    print(\"   • Automatic function selection based on user needs\")\n    print(\"   • Natural language integration of function results\")\n    print(\"   • Coherent multi-step workflow execution\")\n\n# Execute multi-turn conversation demonstration\nawait demonstrate_multi_turn_agent_conversation()"
  },
  {
   "cell_type": "markdown",\n   "id": "function-calling-summary",\n   "metadata": {},\n   "source": "#### 🔑 Key Takeaways: Automatic Function Calling\n\n**What makes this \"Agent-like\":**\n- 🧠 **Autonomous Decision Making**: AI chooses which functions to call without explicit instruction\n- 🔄 **Multi-turn Context**: Maintains conversation state across multiple interactions\n- 🎯 **Intent Recognition**: Understands user goals and selects appropriate tools\n- 🔗 **Function Orchestration**: Can chain multiple function calls in complex workflows\n\n**Semantic Kernel vs LangChain Function Calling:**\n\n| Aspect | Semantic Kernel | LangChain |\n|--------|-----------------|------------|\n| **Setup** | `FunctionChoiceBehavior.Auto()` | `AgentExecutor` or `create_react_agent` |\n| **Function Registration** | `@kernel_function` decorator | Tool classes or `@tool` decorator |\n| **Execution** | Built into chat completion | Requires agent framework |\n| **Type Safety** | Strong typing with annotations | Dynamic binding |\n| **Enterprise Focus** | Built for production reliability | Research and experimentation |\n\n**When to use Automatic Function Calling:**\n- ✅ Single-agent scenarios with well-defined functions\n- ✅ Rapid prototyping of AI-powered applications  \n- ✅ Enterprise applications requiring reliable function execution\n- ✅ Integration with existing business logic and APIs\n\n**Next Steps:**\n- For complex multi-agent systems → See Agent Framework (notebook 4)\n- For advanced orchestration → Use Semantic Kernel planners\n- For production deployment → Add error handling and monitoring"
  },
  {
   "cell_type": "markdown",
   "metadata": {},
   "source": "## Summary: Semantic Kernel Fundamentals\n\nThis notebook covered Semantic Kernel's core concepts using enterprise-ready patterns:\n\n### Key Concepts Learned:\n1. **Kernel Architecture**: Central orchestrator with dependency injection and service registration\n2. **Plugin System**: Structured approach combining semantic functions (AI) and native functions (code)\n3. **Explicit Orchestration**: Programmatic control flow rather than compositional chaining\n4. **Function Calling**: Automatic function selection with typed interfaces and safety\n\n### Semantic Kernel's Philosophy:\n- **\"Orchestrate Everything\"**: Structured orchestration with clear separation of concerns\n- **Hybrid AI + Code**: Seamless integration of LLM capabilities with traditional programming\n- **Enterprise Patterns**: Dependency injection, typed interfaces, and governance-ready architecture\n- **Plugin Ecosystem**: Reusable, discoverable functions with proper metadata\n\n### SK vs LangChain Comparison:\n| Aspect | LangChain (LCEL) | Semantic Kernel |\n|--------|------------------|-----------------|\n| **Composition** | Pipe operators (`\\|`) | Explicit `kernel.invoke()` calls |\n| **Functions** | Tools with dynamic binding | Plugins with typed interfaces |\n| **Flow Control** | Implicit through chains | Explicit orchestration code |\n| **Enterprise Focus** | Community-driven | Microsoft enterprise patterns |\n\n### Next Steps:\n- **Multi-Agent Systems**: See `4_semantic_kernel_agents.ipynb` for Agent Framework\n- **Advanced Plugins**: Memory integration, planning, and complex workflows\n- **Production Deployment**: Azure integration, monitoring, and governance\n\n### Production Considerations:\n- Leverage dependency injection for testability and maintainability\n- Use typed interfaces for better IDE support and error prevention\n- Implement proper error handling and logging throughout the kernel\n- Consider plugin security and validation for production deployments\n- Take advantage of Azure ecosystem integration for enterprise features",
   "outputs": []
  },
  {
   "cell_type": "code",
   "metadata": {},
   "outputs": [],
   "source": "# This cell is being removed - duplicate content"
  },
  {
   "cell_type": "markdown",
   "id": "agent-framework-2025",
   "metadata": {},
   "source": "## 🚀 2025 Agent Framework 1.0 Preview\n\nSemantic Kernel's Agent Framework is moving to GA in Q1 2025. Here's a preview of the stable production patterns."
  },
  {
   "cell_type": "code",
   "execution_count": null,
   "id": "agent-framework-setup",
   "metadata": {},
   "outputs": [],
   "source": "# 2025 PATTERN: Agent Framework 1.0 stable API patterns\ntry:\n    from semantic_kernel.agents import ChatCompletionAgent\n    from semantic_kernel.agents.group_chat import AgentGroupChat\n    from semantic_kernel.contents import ChatMessageContent, AuthorRole\n    \n    print(\"✅ Agent Framework 1.0 available (preview mode)\")\n    \n    # Create agents with stable 1.0 API patterns\n    research_agent = ChatCompletionAgent(\n        service_id=sk_config.service_id,\n        kernel=kernel,\n        name=\"ResearchSpecialist\",\n        instructions=\"You are a research specialist who provides detailed, well-sourced information on any topic.\"\n    )\n    \n    analysis_agent = ChatCompletionAgent(\n        service_id=sk_config.service_id,\n        kernel=kernel,\n        name=\"DataAnalyst\", \n        instructions=\"You are a data analyst who interprets research findings and provides actionable insights.\"\n    )\n    \n    # Create agent group chat for collaboration\n    agent_chat = AgentGroupChat(\n        agents=[research_agent, analysis_agent],\n        termination_strategy=None  # Will run until completion\n    )\n    \n    print(f\"📊 Agent Framework Status:\")\n    print(f\"   Agents created: {len(agent_chat.agents)}\")\n    print(f\"   Research Agent: {research_agent.name}\")\n    print(f\"   Analysis Agent: {analysis_agent.name}\")\n    \n    # Demonstrate agent collaboration\n    async def demonstrate_agent_collaboration():\n        \"\"\"Shows how agents collaborate using the 2025 stable API\"\"\"\n        \n        user_message = ChatMessageContent(\n            role=AuthorRole.USER,\n            content=\"Research the benefits of renewable energy and provide an analysis of adoption trends.\"\n        )\n        \n        print(f\"\\n🎯 User Request: {user_message.content}\")\n        print(\"\\n🤖 Agent Collaboration in Progress...\")\n        \n        # Add user message to chat\n        await agent_chat.add_chat_message(user_message)\n        \n        # Execute agent collaboration\n        async for message in agent_chat.invoke():\n            print(f\"\\n[{message.author.name}]: {message.content}\")\n            \n            # Limit output for demo\n            if len(agent_chat.history) >= 4:  # User + 2 agent responses\n                break\n    \n    # Run the collaboration demo\n    await demonstrate_agent_collaboration()\n    \nexcept ImportError as e:\n    print(f\"⚠️ Agent Framework not available in current version: {e}\")\n    print(\"📅 Agent Framework 1.0 GA expected Q1 2025\")\n    print(\"💡 Install preview: pip install semantic-kernel --pre\")"
  },
  {
   "cell_type": "markdown",
   "id": "autogen-integration",
   "metadata": {},
   "source": "## 🔗 2025 AutoGen Integration\n\nMicrosoft is providing three convergence approaches for AutoGen + Semantic Kernel integration in early 2025."
  },
  {
   "cell_type": "code",
   "execution_count": null,
   "id": "autogen-setup",
   "metadata": {},
   "outputs": [],
   "source": "# 2025 PATTERN: AutoGen integration with Semantic Kernel\ntry:\n    # Install: pip install semantic-kernel[autogen]\n    from semantic_kernel.agents.autogen import AutoGenAgent\n    \n    print(\"✅ AutoGen integration available\")\n    \n    # Create AutoGen conversable agent within SK ecosystem\n    autogen_research_agent = AutoGenAgent(\n        kernel=kernel,\n        name=\"AutoGenResearcher\",\n        system_message=\"You are an advanced research agent with deep analytical capabilities.\",\n        llm_config={\n            'model': sk_config.azure_deployment,\n            'temperature': 0.7,\n            'azure_endpoint': sk_config.azure_endpoint,\n            'api_key': sk_config.azure_api_key\n        }\n    )\n    \n    print(f\"🔬 AutoGen Agent Created:\")\n    print(f\"   Name: {autogen_research_agent.name}\")\n    print(f\"   Type: AutoGen Conversable Agent in SK Runtime\")\n    \n    # Demonstrate seamless integration\n    async def demonstrate_autogen_integration():\n        \"\"\"Shows AutoGen agents working within SK ecosystem\"\"\"\n        \n        # Use AutoGen agent in SK Agent Framework\n        mixed_chat = AgentGroupChat(\n            agents=[autogen_research_agent, analysis_agent],  # Mix of AutoGen + SK agents\n            termination_strategy=None\n        )\n        \n        user_message = ChatMessageContent(\n            role=AuthorRole.USER,\n            content=\"Analyze the future of AI agent frameworks and provide strategic recommendations.\"\n        )\n        \n        print(f\"\\n🎯 Mixed Agent Team Task: {user_message.content}\")\n        print(\"\\n🤝 AutoGen + SK Agent Collaboration...\")\n        \n        await mixed_chat.add_chat_message(user_message)\n        \n        # Show first few exchanges\n        response_count = 0\n        async for message in mixed_chat.invoke():\n            print(f\"\\n[{message.author.name}]: {message.content[:200]}...\")\n            response_count += 1\n            if response_count >= 2:  # Limit for demo\n                break\n    \n    # Run the mixed integration demo\n    await demonstrate_autogen_integration()\n    \nexcept ImportError as e:\n    print(f\"⚠️ AutoGen integration not available: {e}\")\n    print(\"📅 AutoGen integration available early 2025\")\n    print(\"💡 Install when available: pip install semantic-kernel[autogen]\")\nexcept Exception as e:\n    print(f\"⚠️ AutoGen integration error: {e}\")\n    print(\"📝 Note: AutoGen integration is in active development\")"
  },
  {
   "cell_type": "markdown",
   "id": "process-framework-preview",
   "metadata": {},
   "source": "## ⚡ 2025 Process Framework Preview\n\nProcess Framework GA is expected Q2 2025 for stateful workflows and business process automation."
  },
  {
   "cell_type": "code",
   "execution_count": null,
   "id": "process-framework-demo",
   "metadata": {},
   "outputs": [],
   "source": "# 2025 PATTERN: Process Framework preview for business workflows\ntry:\n    from semantic_kernel.processes import Process, ProcessStep\n    \n    print(\"✅ Process Framework preview available\")\n    \n    # Define workflow steps\n    class DocumentAnalysisStep(ProcessStep):\n        async def execute(self, context):\n            \"\"\"Analyze document content\"\"\"\n            print(f\"📄 Analyzing document: {context.input}\")\n            # Simulate document analysis\n            return f\"Analysis complete for {context.input}\"\n    \n    class QualityReviewStep(ProcessStep):\n        async def execute(self, context):\n            \"\"\"Quality review step\"\"\"\n            print(f\"🔍 Quality review: {context.data}\")\n            # Simulate human-in-the-loop review\n            return \"Quality review passed\"\n    \n    # Create stateful process\n    document_process = Process(\n        steps=[\n            DocumentAnalysisStep(),\n            QualityReviewStep(),\n        ],\n        orchestration_mode='sequential'\n    )\n    \n    print(f\"🔄 Process Framework Demo:\")\n    print(f\"   Steps defined: {len(document_process.steps)}\")\n    print(f\"   Orchestration: {document_process.orchestration_mode}\")\n    \n    # Execute process workflow\n    async def demonstrate_process_workflow():\n        \"\"\"Shows stateful business process execution\"\"\"\n        \n        input_document = \"Technical Requirements Document v2.1\"\n        print(f\"\\n🎯 Processing: {input_document}\")\n        \n        result = await document_process.run(input_document)\n        print(f\"✅ Process completed: {result}\")\n    \n    # Run the process demo\n    await demonstrate_process_workflow()\n    \nexcept ImportError as e:\n    print(f\"⚠️ Process Framework not available: {e}\")\n    print(\"📅 Process Framework GA expected Q2 2025\")\n    print(\"💡 Install preview: pip install semantic-kernel --pre\")\nexcept Exception as e:\n    print(f\"⚠️ Process Framework error: {e}\")\n    print(\"📝 Note: Process Framework is in active development\")"
  },
  {
   "cell_type": "markdown",
   "metadata": {},
   "source": "## Summary: Semantic Kernel Fundamentals (2025 Edition)\n\nThis notebook covered the core concepts of Semantic Kernel with 2025 production patterns:\n\n### Key Concepts Learned:\n1. **Plugin Architecture**: Structured, reusable components with explicit orchestration\n2. **Kernel Orchestration**: Central dependency injection and service management\n3. **Function Calling**: Automatic function invocation with structured data flows\n4. **Agent Framework 1.0**: Production-ready multi-agent collaboration (Q1 2025 GA)\n5. **AutoGen Integration**: Seamless transition from experimentation to production\n6. **Process Framework**: Stateful workflows and business process automation (Q2 2025 GA)\n\n### 2025 Semantic Kernel Evolution:\n- **Agent Framework 1.0**: Stable API for production multi-agent systems\n- **AutoGen Convergence**: Three integration approaches for enhanced capabilities\n- **Process Framework**: Enterprise workflow automation with human-in-the-loop\n- **Production Readiness**: Enterprise governance and compliance features\n- **Azure Integration**: Enhanced cloud-native capabilities\n\n### Next Steps:\n- **Advanced Agents**: See `4_semantic_kernel_agents.ipynb` for complex agent patterns\n- **Production Deployment**: Enterprise governance and monitoring setup\n- **AutoGen Migration**: Transition strategies from pure AutoGen to SK\n- **Process Automation**: Business workflow implementation patterns\n\n### 2025 Production Considerations:\n- Prepare for Agent Framework 1.0 GA in Q1 2025\n- Evaluate AutoGen integration options for advanced agent capabilities\n- Plan Process Framework adoption for workflow automation in Q2 2025\n- Implement enterprise governance and compliance patterns\n- Leverage Azure integration for cloud-native deployment",
   "outputs": []
  }
 ],
 "metadata": {
  "kernelspec": {
   "display_name": "Python 3 (ipykernel)",
   "language": "python",
   "name": "python3"
  },
  "language_info": {
   "codemirror_mode": {
    "name": "ipython",
    "version": 3
   },
   "file_extension": ".py",
   "mimetype": "text/x-python",
   "name": "python",
   "nbconvert_exporter": "python",
   "pygments_lexer": "ipython3",
   "version": "3.11.0"
  }
 },
 "nbformat": 4,
 "nbformat_minor": 5
}